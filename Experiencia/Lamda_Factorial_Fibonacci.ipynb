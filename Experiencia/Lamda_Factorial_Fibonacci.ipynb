{
 "cells": [
  {
   "cell_type": "code",
   "execution_count": 4,
   "id": "f462d3ee",
   "metadata": {},
   "outputs": [
    {
     "name": "stdout",
     "output_type": "stream",
     "text": [
      "The pot is: 16.0\n",
      "The raiz is: 2.0\n",
      "The log is: 2.0\n"
     ]
    }
   ],
   "source": [
    "import math\n",
    "\n",
    "n1 = float(input(\"Enter the 1st number: \"))\n",
    "n2 = float(input(\"Enter the 2nd number: \"))\n",
    "\n",
    "potencia = lambda base,exponente: math.pow(base,exponente)# base**exponente\n",
    "resultado = potencia(n1, n2)\n",
    "print(f\"The pot is: {resultado}\")\n",
    "\n",
    "raiz = lambda base, enesima: base ** (1/enesima)\n",
    "resultado = raiz(n1, n2)\n",
    "print(f\"The raiz is: {resultado}\")\n",
    "\n",
    "logaritmo = lambda num, base : math.log(num, base)\n",
    "resultado = logaritmo(n1, n2)\n",
    "print(f\"The log is: {resultado}\")\n"
   ]
  },
  {
   "cell_type": "code",
   "execution_count": 5,
   "id": "83beb3ed",
   "metadata": {},
   "outputs": [
    {
     "name": "stdout",
     "output_type": "stream",
     "text": [
      "The sin is: 0.479425538604203\n",
      "The cos is: 0.8775825618903728\n",
      "The tan is: 0.5463024898437905\n"
     ]
    }
   ],
   "source": [
    "import math\n",
    "\n",
    "n1 = float(input(\"Enter number: \"))\n",
    "\n",
    "seno = lambda angulo_radianes: math.sin(angulo_radianes)\n",
    "resultado = seno(n1)\n",
    "print(f\"The sin is: {resultado}\")\n",
    "\n",
    "coseno = lambda angulo_radianes: math.cos(angulo_radianes)\n",
    "resultado = coseno(n1)\n",
    "print(f\"The cos is: {resultado}\")\n",
    "\n",
    "tangente = lambda angulo_radianes: math.tan(angulo_radianes)\n",
    "resultado = tangente(n1)\n",
    "print(f\"The tan is: {resultado}\")"
   ]
  },
  {
   "cell_type": "code",
   "execution_count": 7,
   "id": "25e780d1",
   "metadata": {},
   "outputs": [
    {
     "data": {
      "text/plain": [
       "720"
      ]
     },
     "execution_count": 7,
     "metadata": {},
     "output_type": "execute_result"
    }
   ],
   "source": [
    "def factorial(n):\n",
    "    if n == 0:\n",
    "        return 1\n",
    "    return n * factorial(n - 1)\n",
    "\n",
    "factorial(6)"
   ]
  },
  {
   "cell_type": "code",
   "execution_count": 6,
   "id": "709699a2",
   "metadata": {},
   "outputs": [
    {
     "name": "stdout",
     "output_type": "stream",
     "text": [
      "0\n",
      "1\n",
      "1\n",
      "2\n",
      "3\n",
      "5\n",
      "8\n",
      "13\n",
      "21\n",
      "34\n",
      "55\n",
      "89\n",
      "144\n",
      "233\n",
      "377\n",
      "610\n",
      "987\n",
      "1597\n",
      "2584\n",
      "4181\n",
      "6765\n"
     ]
    }
   ],
   "source": [
    "def fibonacci(n): # n debe ser un numero entero positivo incluyendo el cero (numero natural)\n",
    "     if n <= 1:\n",
    "         return n\n",
    "     else:\n",
    "         return fibonacci(n - 1) + fibonacci(n - 2) # aquí se aplica la recursividad pues dentro del mismo bloque de código llamo a la función\n",
    "\n",
    "i = 0\n",
    "while i <= 20:\n",
    "    print(fibonacci(i))\n",
    "    i += 1\n"
   ]
  }
 ],
 "metadata": {
  "kernelspec": {
   "display_name": "Python 3",
   "language": "python",
   "name": "python3"
  },
  "language_info": {
   "codemirror_mode": {
    "name": "ipython",
    "version": 3
   },
   "file_extension": ".py",
   "mimetype": "text/x-python",
   "name": "python",
   "nbconvert_exporter": "python",
   "pygments_lexer": "ipython3",
   "version": "3.10.11"
  }
 },
 "nbformat": 4,
 "nbformat_minor": 5
}
