{
 "cells": [
  {
   "cell_type": "code",
   "execution_count": 1,
   "id": "1e0e1f1f",
   "metadata": {},
   "outputs": [
    {
     "name": "stdout",
     "output_type": "stream",
     "text": [
      "manzana\n",
      "banano\n",
      "fresa\n",
      "mango\n",
      "\n",
      "ferrari\n",
      "bmw\n",
      "mercedes\n",
      "audi\n",
      "\n",
      "rojo\n",
      "negro\n",
      "blanco\n",
      "azul\n",
      "\n",
      "Clave: Nombre, Valor: David\n",
      "Clave: Apellido, Valor: Gonzales\n",
      "Clave: Edad, Valor: 30\n",
      "Clave: Genero, Valor: Masculino\n"
     ]
    }
   ],
   "source": [
    "lista = [\"manzana\", \"banano\", \"fresa\", \"mango\"]\n",
    "tupla = (\"ferrari\", \"bmw\", \"mercedes\", \"audi\")\n",
    "conjunto = {\"azul\", \"rojo\", \"negro\", \"blanco\"}\n",
    "d = {\n",
    "\n",
    "   \"Nombre\"    :  \"David\"                ,\n",
    "   \"Apellido\" :  \"Gonzales\"                  ,\n",
    "   \"Edad\"  :  \"30\"                 ,\n",
    "   \"Genero\"    :  \"Masculino\"                   }\n",
    "\n",
    "for i in lista:\n",
    "    print (i)\n",
    "\n",
    "print(\"\")\n",
    "for i in tupla:\n",
    "    print (i)\n",
    "\n",
    "print(\"\")\n",
    "for i in conjunto:\n",
    "    print (i)\n",
    "\n",
    "print(\"\")\n",
    "for clave, valor in d.items():\n",
    "    print(f\"Clave: {clave}, Valor: {valor}\")\n"
   ]
  }
 ],
 "metadata": {
  "kernelspec": {
   "display_name": "Python 3",
   "language": "python",
   "name": "python3"
  },
  "language_info": {
   "codemirror_mode": {
    "name": "ipython",
    "version": 3
   },
   "file_extension": ".py",
   "mimetype": "text/x-python",
   "name": "python",
   "nbconvert_exporter": "python",
   "pygments_lexer": "ipython3",
   "version": "3.10.11"
  }
 },
 "nbformat": 4,
 "nbformat_minor": 5
}
