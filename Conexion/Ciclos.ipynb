{
 "cells": [
  {
   "cell_type": "code",
   "execution_count": 1,
   "id": "021d6e26",
   "metadata": {},
   "outputs": [
    {
     "name": "stdout",
     "output_type": "stream",
     "text": [
      "Cantidad de nombres que comienzan con A: 3\n"
     ]
    }
   ],
   "source": [
    "nombres = []\n",
    "for i in range(5):\n",
    "    nom = input(\"Ingrese un nombre: \")\n",
    "    nom = nom.upper()\n",
    "    nombres.append(nom)\n",
    "\n",
    "i = 0\n",
    "for nom in nombres:\n",
    "    if nom[0] == 'A':\n",
    "        i += 1\n",
    "\n",
    "print(\"Cantidad de nombres que comienzan con A:\", i)"
   ]
  },
  {
   "cell_type": "code",
   "execution_count": null,
   "id": "0915ce40",
   "metadata": {},
   "outputs": [
    {
     "name": "stdout",
     "output_type": "stream",
     "text": [
      "Edad registrada correctamente: 20\n"
     ]
    }
   ],
   "source": [
    "edad = int(input(\"Ingresar edad: \"))\n",
    "while edad < 18 or edad > 99:\n",
    "    edad = int(input(\"Ingresa una edad entre 18 y 99: \"))\n",
    "\n",
    "print(\"Edad registrada:\", edad)"
   ]
  }
 ],
 "metadata": {
  "kernelspec": {
   "display_name": "Python 3",
   "language": "python",
   "name": "python3"
  },
  "language_info": {
   "codemirror_mode": {
    "name": "ipython",
    "version": 3
   },
   "file_extension": ".py",
   "mimetype": "text/x-python",
   "name": "python",
   "nbconvert_exporter": "python",
   "pygments_lexer": "ipython3",
   "version": "3.10.11"
  }
 },
 "nbformat": 4,
 "nbformat_minor": 5
}
